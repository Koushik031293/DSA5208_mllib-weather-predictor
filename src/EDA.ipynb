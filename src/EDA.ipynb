{
 "cells": [
  {
   "cell_type": "code",
   "execution_count": null,
   "id": "dff31b24",
   "metadata": {},
   "outputs": [],
   "source": [
    "# EDA: Setup & Load\n",
    "from pyspark.sql import SparkSession, functions as F\n",
    "\n",
    "spark = SparkSession.builder.appName(\"ISD_2024_EDA\").getOrCreate()\n",
    "\n",
    "PARQUET_PATH = \"../data/noaa_parquet_subset/2024_cleansed.parquet\"  # adjust if needed\n",
    "df = spark.read.parquet(PARQUET_PATH)\n",
    "\n",
    "print(\"✅ Loaded:\", PARQUET_PATH)\n",
    "df.printSchema()\n",
    "print(\"Rows:\", f\"{df.count():,}\")"
   ]
  }
 ],
 "metadata": {
  "kernelspec": {
   "display_name": "weather-ml",
   "language": "python",
   "name": "python3"
  },
  "language_info": {
   "name": "python",
   "version": "3.10.18"
  }
 },
 "nbformat": 4,
 "nbformat_minor": 5
}
